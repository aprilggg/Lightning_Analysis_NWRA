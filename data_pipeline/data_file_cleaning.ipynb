{
 "cells": [
  {
   "cell_type": "markdown",
   "metadata": {},
   "source": [
    "# File Cleaning\n",
    "\n",
    "This notebook cleans up any duplicate files uploaded to Google Drive. This notebook should be executed after the `data_upload.ipynb` Notebook. Of the txt files uploaded, the files ending with \"2.txt\" are duplicates and should be removed before performing our analysis. \n",
    "\n",
    "### Code\n",
    "We do not use the PyDrive package for this activity due to issues we found regarding deleting files using the API calls. Instead, we will start by installing the following packages:\n",
    "- google-api-python-client\n",
    "- google-auth-httplib2\n",
    "- google-auth-oauthlib"
   ]
  },
  {
   "cell_type": "code",
   "execution_count": null,
   "metadata": {},
   "outputs": [],
   "source": [
    "# Install necessary packages\n",
    "!pip install google-api-python-client google-auth-httplib2 google-auth-oauthlib"
   ]
  },
  {
   "cell_type": "code",
   "execution_count": 24,
   "metadata": {},
   "outputs": [],
   "source": [
    "# Import packages\n",
    "from googleapiclient.discovery import build\n",
    "from google_auth_oauthlib.flow import InstalledAppFlow\n",
    "from google.auth.transport.requests import Request\n",
    "import os\n",
    "import pickle"
   ]
  },
  {
   "cell_type": "markdown",
   "metadata": {},
   "source": [
    "Here we create the function to authenticate the Google Drive API. Calling this function will prompt a similar authentication process to the one in the `data_upload.ipynb` Notebook."
   ]
  },
  {
   "cell_type": "code",
   "execution_count": 30,
   "metadata": {},
   "outputs": [],
   "source": [
    "# Authenticate Google Drive\n",
    "SCOPES = ['https://www.googleapis.com/auth/drive']\n",
    "def authenticate_drive_api():\n",
    "    creds = None\n",
    "    # Check if token.pickle exists for stored credentials\n",
    "    if os.path.exists('token.pickle'):\n",
    "        with open('token.pickle', 'rb') as token:\n",
    "            creds = pickle.load(token)\n",
    "    # If no valid credentials, authenticate using client_secrets.json\n",
    "    if not creds or not creds.valid:\n",
    "        if creds and creds.expired and creds.refresh_token:\n",
    "            creds.refresh(Request())\n",
    "        else:\n",
    "            flow = InstalledAppFlow.from_client_secrets_file(\n",
    "                'client_secrets.json', SCOPES)\n",
    "            creds = flow.run_local_server(port=0)\n",
    "        # Save the credentials for the next run\n",
    "        with open('token.pickle', 'wb') as token:\n",
    "            pickle.dump(creds, token)\n",
    "    return build('drive', 'v3', credentials=creds)"
   ]
  },
  {
   "cell_type": "markdown",
   "metadata": {},
   "source": [
    "This function changes the \"[trashed](https://developers.google.com/drive/api/guides/delete)\" property of the file using the file ID."
   ]
  },
  {
   "cell_type": "code",
   "execution_count": 32,
   "metadata": {},
   "outputs": [],
   "source": [
    "def trash_file(service, file_id):\n",
    "    try:\n",
    "        # Update the file's 'trashed' property\n",
    "        service.files().update(\n",
    "            fileId=file_id,\n",
    "            body={\"trashed\": True}\n",
    "        ).execute()\n",
    "        print(f\"File {file_id} moved to trash.\")\n",
    "    except Exception as e:\n",
    "        print(f\"An error occurred: {e}\")"
   ]
  },
  {
   "cell_type": "markdown",
   "metadata": {},
   "source": [
    "This next function searches for the files with file names matching a pattern within a folder and then calls the `trash_file` function."
   ]
  },
  {
   "cell_type": "code",
   "execution_count": 36,
   "metadata": {},
   "outputs": [],
   "source": [
    "def find_and_trash_files(folder_id, pattern):\n",
    "    # Query to find files in the specified folder\n",
    "    query = f\"'{folder_id}' in parents and trashed=false\"\n",
    "\n",
    "    # List files in the folder\n",
    "    page_token = None\n",
    "    while True:\n",
    "        response = service.files().list(\n",
    "            q=query,\n",
    "            spaces='drive',\n",
    "            fields='nextPageToken, files(id, name)',\n",
    "            pageToken=page_token\n",
    "        ).execute()\n",
    "\n",
    "        for file in response.get('files', []):\n",
    "            if pattern in file['name']:\n",
    "                print(f\"Trashing file: {file['name']} (ID: {file['id']})\")\n",
    "                # Move file to trash\n",
    "                service.files().update(\n",
    "                    fileId=file['id'],\n",
    "                    body={\"trashed\": True}\n",
    "                ).execute()\n",
    "\n",
    "        page_token = response.get('nextPageToken', None)\n",
    "        if page_token is None:\n",
    "            break"
   ]
  },
  {
   "cell_type": "markdown",
   "metadata": {},
   "source": [
    "First, call the `authenticate_drive_api` function to grant access to the Google Drive account."
   ]
  },
  {
   "cell_type": "code",
   "execution_count": 31,
   "metadata": {},
   "outputs": [
    {
     "name": "stdout",
     "output_type": "stream",
     "text": [
      "Please visit this URL to authorize this application: https://accounts.google.com/o/oauth2/auth?response_type=code&client_id=389849867563-4uggnm57nqe52156v32gj1lkosoqpoem.apps.googleusercontent.com&redirect_uri=http%3A%2F%2Flocalhost%3A54709%2F&scope=https%3A%2F%2Fwww.googleapis.com%2Fauth%2Fdrive&state=AHuwSrIU0ClxbMe5MEB0Y2vrit6tAF&access_type=offline\n"
     ]
    }
   ],
   "source": [
    "# Authenticate and create the API service\n",
    "service = authenticate_drive_api()"
   ]
  },
  {
   "cell_type": "markdown",
   "metadata": {},
   "source": [
    "Next, define the folder ID for the folder of interest and the pattern to look for in the files to remove. We define our pattern of interest as \"2.txt\". The folder ID can be found as the string after the \"folders/\" part of the URL for the Google Drive folder.\n",
    "\n",
    "Finally, we call the `find_and_trash_files` function to move these files to trash. We choose to move files to trash as opposed to deleting them entirely in case we need to undo this operation later down the line."
   ]
  },
  {
   "cell_type": "code",
   "execution_count": null,
   "metadata": {},
   "outputs": [
    {
     "name": "stdout",
     "output_type": "stream",
     "text": [
      "Trashing file: ATL_10_20_Shary_WWLLN_Locations 2.txt (ID: 19cWRDiv1VkCASM4JqzjPc7T3keV3W9DB)\n",
      "Trashing file: ATL_10_18_Paula_Reduced_Trackfile 2.txt (ID: 18aFdGtXVjd6vRoHp29tHUsmeTgRQLAj_)\n",
      "Trashing file: ATL_10_9_Gaston_WWLLN_Locations 2.txt (ID: 1ATJpfVymHpvq2PB4JjuQpnKu9J7i5XaA)\n",
      "Trashing file: ATL_10_9_Gaston_Reduced_Trackfile 2.txt (ID: 1fXEARdA_8Rt-byFCpgg9x-oBBcX4ON1I)\n",
      "Trashing file: ATL_10_11_Igor_Reduced_Trackfile 2.txt (ID: 1L9Hai3wnxcje7hjnJyjMo0MJj6l-OuZW)\n",
      "Trashing file: ATL_10_7_Earl_Reduced_Trackfile 2.txt (ID: 12IAQy4hafTjJzWILRxuoieKWraHgn3lB)\n",
      "Trashing file: ATL_10_11_Igor_WWLLN_Locations 2.txt (ID: 18HUVwgnT09NOwcWu6_gqxlHbnKK8fJn2)\n",
      "Trashing file: ATL_10_7_Earl_WWLLN_Locations 2.txt (ID: 11E4pvf5m4AfvJV2eqXT8-KxKwgi-kfqV)\n",
      "Trashing file: ATL_10_16_Nicole_Reduced_Trackfile 2.txt (ID: 1XKr_Ct7fYS7Thj0ASORZOhuMoPeruxPm)\n",
      "Trashing file: ATL_10_16_Nicole_WWLLN_Locations 2.txt (ID: 1ttDmUx5aU4xZKseQp3Q_r4F-aupcPQrD)\n",
      "Trashing file: ATL_10_6_Danielle_Reduced_Trackfile 2.txt (ID: 197DCCU8fEizdtRh6k3v-1brODnseTk4X)\n",
      "Trashing file: ATL_10_6_Danielle_WWLLN_Locations 2.txt (ID: 1TJiVFYsbfL4JotKI1ORsFTj6MSFCgC9s)\n",
      "Trashing file: ATL_10_17_Otto_WWLLN_Locations 2.txt (ID: 1F6wot-R4ofjAFpHbOG3UnW3MOH1QmAid)\n",
      "Trashing file: ATL_10_17_Otto_Reduced_Trackfile 2.txt (ID: 1jo3JIJK6hbJ5tMBOAeQhcNs1s1upNDJx)\n",
      "Trashing file: ATL_10_1_Alex_Reduced_Trackfile 2.txt (ID: 1bBITF0LQT2-dJI-EGCITx6rk4GqZDibN)\n",
      "Trashing file: ATL_10_10_Hermine_Reduced_Trackfile 2.txt (ID: 1486FPTKae9UTvDslpW2AG-cwuaYLh0Nx)\n",
      "Trashing file: ATL_10_10_Hermine_WWLLN_Locations 2.txt (ID: 1JBwJU6I9DLZ49XrdYNKa7WJLvXLXrABx)\n",
      "Trashing file: ATL_10_19_Richard_Reduced_Trackfile 2.txt (ID: 1NM1VeLT82qNOoy87Niingr1C5-8wO5Zl)\n",
      "Trashing file: ATL_10_8_Fiona_Reduced_Trackfile 2.txt (ID: 11BO9qfb155WYzJ3PNxr_UXhXsSTZT1gt)\n",
      "Trashing file: ATL_10_8_Fiona_WWLLN_Locations 2.txt (ID: 1wSOd0sOjFqfPwbQi_g3tRChqQpd5VyZu)\n",
      "Trashing file: ATL_10_21_Tomas_Reduced_Trackfile 2.txt (ID: 1fe0O1YSxAcy7-PTlCNnJIZSRJqche9qI)\n",
      "Trashing file: ATL_10_4_Colin_WWLLN_Locations 2.txt (ID: 1MiTjT5qyvpjR4VIZ8v4c3Tw82swmHgMZ)\n",
      "Trashing file: ATL_10_4_Colin_Reduced_Trackfile 2.txt (ID: 1EKkpkAYjnytW6gN9G2mFEIuB9mBwe5oz)\n",
      "Trashing file: ATL_10_15_Matthew_WWLLN_Locations 2.txt (ID: 14J6wHzayk7CgNezjLRGNLs-x8aqyUf32)\n",
      "Trashing file: ATL_10_15_Matthew_Reduced_Trackfile 2.txt (ID: 1wcXQUrbYofi_WHTbboXsXemma-j59-mG)\n",
      "Trashing file: ATL_10_3_Bonnie_WWLLN_Locations 2.txt (ID: 1x2p8fqJ1eu8p6g0Z8i9B6yCsV_gXCFDn)\n",
      "Trashing file: ATL_10_12_Julia_WWLLN_Locations 2.txt (ID: 1snkZ2i8ssenpMuneJ_RksdjQPkhXauFL)\n",
      "Trashing file: ATL_10_12_Julia_Reduced_Trackfile 2.txt (ID: 1cT-VoFEICwTGe1_7G3HRe0kgiKg7mRyw)\n",
      "Trashing file: ATL_10_2_Two_Reduced_Trackfile 2.txt (ID: 1M1tvRy1lSmvKcHDacYCq48UJ6WDuTvxg)\n",
      "Trashing file: ATL_10_13_Karl_Reduced_Trackfile 2.txt (ID: 1ccruFdwaNWMcoX3BF2cY7eTjajQHNczO)\n",
      "Trashing file: ATL_10_5_Five_Reduced_Trackfile 2.txt (ID: 1Ue3rnzTXIQqfg8_dnKpOScVYCtU0IpZi)\n",
      "Trashing file: ATL_10_14_Lisa_WWLLN_Locations 2.txt (ID: 1u9HcShKdenS4XQPbosfGRQJzKDvbgmtD)\n",
      "Trashing file: ATL_10_14_Lisa_Reduced_Trackfile 2.txt (ID: 1X5BhR7MT7PJi1y2NCCEiBw1RxL2-ziAQ)\n",
      "Trashing file: CPAC_10_1_Omeka_Reduced_Trackfile 2.txt (ID: 1n3KvzRYLBSF7Jrgh6xcl4pfwHZLG_naf)\n",
      "Trashing file: CPAC_10_1_Omeka_WWLLN_Locations 2.txt (ID: 1aMZbWQzouL7SOwTHoQ4iPwbuNbk4GUii)\n",
      "Trashing file: EPAC_10_9_Frank_Reduced_Trackfile 2.txt (ID: 128wir6g7GmCFZaT8-QE7bVP6Jnro_l3C)\n",
      "Trashing file: EPAC_10_9_Frank_WWLLN_Locations 2.txt (ID: 1sUZMQj2UnX69igQdLtDH8JR_ZBJGup26)\n",
      "Trashing file: EPAC_10_11_Eleven_Reduced_Trackfile 2.txt (ID: 1cLehMkbBekxOyKj5WRRcoDVdnYBlayAz)\n",
      "Trashing file: EPAC_10_7_Estelle_Reduced_Trackfile 2.txt (ID: 1X-yftj_VM7k6oXwsaVW3NVoIWCuibg83)\n",
      "Trashing file: EPAC_10_11_Eleven_WWLLN_Locations 2.txt (ID: 1KKGqwnmcvQDUD2hMcIkhzZ4MMiZUBxU1)\n",
      "Trashing file: EPAC_10_7_Estelle_WWLLN_Locations 2.txt (ID: 1TofQFaOSNHDykIyM0TxbnaQbzF_zyivt)\n",
      "Trashing file: EPAC_10_6_Six_WWLLN_Locations 2.txt (ID: 1F_5oHXEJrpLwqSYTYcIKyWq-4GQieCaV)\n",
      "Trashing file: EPAC_10_6_Six_Reduced_Trackfile 2.txt (ID: 1nCGNd7xdCqZyCaAC2ExfnGYTcLUZV3Gl)\n",
      "Trashing file: EPAC_10_1_Agatha_WWLLN_Locations 2.txt (ID: 1G1aAxp9DQvxXfdP1fRMSGz1y5Y473qN8)\n",
      "Trashing file: EPAC_10_1_Agatha_Reduced_Trackfile 2.txt (ID: 1yzywICXofafruaM5Ou9nyL5uEFK8WVHK)\n",
      "Trashing file: EPAC_10_10_Ten_Reduced_Trackfile 2.txt (ID: 1kPPzcluK7bgKeCROHjNSTOl_st8ztQmZ)\n",
      "Trashing file: EPAC_10_10_Ten_WWLLN_Locations 2.txt (ID: 1qnjNX9qwqK5iJevden3Cgg7KzDJsn4gW)\n",
      "Trashing file: EPAC_10_8_Eight_Reduced_Trackfile 2.txt (ID: 1hSMwCOKbl-W3b7dkV4FM81Pr0q-H2xNL)\n",
      "Trashing file: EPAC_10_8_Eight_WWLLN_Locations 2.txt (ID: 1s531Ahq0WkixDkkNxz-rgxRYdW6zhl32)\n",
      "Trashing file: IO_10_1_Laila_Reduced_Trackfile 2.txt (ID: 1Cb0jslh_Any3z9q4Togc6E7ccZE4oKbm)\n",
      "Trashing file: IO_10_1_Laila_WWLLN_Locations 2.txt (ID: 1-mfXloXpMVQW0clx5cU9zjg2Vrk3ekrG)\n",
      "Trashing file: IO_10_4_Giri_Reduced_Trackfile 2.txt (ID: 1h75O2B-WQE4VXFUc7bhpc8ZkOhTow9sG)\n",
      "Trashing file: IO_10_4_Giri_WWLLN_Locations 2.txt (ID: 1EnrhBvxgq6WAGYz2wPuItIm-MK1uJJzn)\n",
      "Trashing file: IO_10_3_Phet_WWLLN_Locations 2.txt (ID: 1LF4eqYZSAexbzU8CPbmHExBG6ICJD09c)\n",
      "Trashing file: IO_10_3_Phet_Reduced_Trackfile 2.txt (ID: 1EJ28dlWEFwXBrbVTlEtxzy5Hk2wrqbtU)\n",
      "Trashing file: IO_10_2_Bandu_Reduced_Trackfile 2.txt (ID: 1-UBtzmKv7atZZ66aHdMICwhVe0wOdAqz)\n",
      "Trashing file: IO_10_2_Bandu_WWLLN_Locations 2.txt (ID: 1psFNi6lx1yqq9YO4wj48upiFV_apo3XD)\n",
      "Trashing file: IO_10_5_Jal_WWLLN_Locations 2.txt (ID: 1SPrjrBCGzbOdl44ssBqnfRrekUBsMa7D)\n",
      "Trashing file: IO_10_5_Jal_Reduced_Trackfile 2.txt (ID: 1KUwgF79DVe-gyLa8By_GJfoYOtjS6mAT)\n",
      "Trashing file: SHEM_10_20_Ului_Reduced_Trackfile 2.txt (ID: 1ltuthWn9SRfDmqFWPkhROETMfGIDZgAv)\n",
      "Trashing file: SHEM_10_20_Ului_WWLLN_Locations 2.txt (ID: 1sxnn1ZU-j4mA84wa5Kzbi3Duwby5guEL)\n",
      "Trashing file: SHEM_10_18_Hubert_Reduced_Trackfile 2.txt (ID: 1TMnFkPyTyop5-SaPt1I4NqF1HZBFXbi_)\n",
      "Trashing file: SHEM_10_18_Hubert_WWLLN_Locations 2.txt (ID: 1eE2AIoRBWaQjsT0D-GYW6J7LBnAoHkIm)\n",
      "Trashing file: SHEM_10_9_Olga_Reduced_Trackfile 2.txt (ID: 1WvdRTD2BN4czwXnzlOqo0dRFXF-mOAEn)\n",
      "Trashing file: SHEM_10_11_Eleven_WWLLN_Locations 2.txt (ID: 1Jtgfjm8n5zKvH4n__2QC-PmyKWlf3Sck)\n",
      "Trashing file: SHEM_10_11_Eleven_Reduced_Trackfile 2.txt (ID: 1syPuGQ_TYusyLMsjKxXHGlHOrTMYGkZu)\n",
      "Trashing file: SHEM_10_7_Edzani_WWLLN_Locations 2.txt (ID: 1oC1aFZZHGJcE7esyqEm3cG-BfpusnFuG)\n",
      "Trashing file: SHEM_10_7_Edzani_Reduced_Trackfile 2.txt (ID: 1hlyWQe9f_Fhs7A_7U-l14qq2gLVtMyOW)\n",
      "Trashing file: SHEM_10_16_Gelane_WWLLN_Locations 2.txt (ID: 17YFBn0US9j6JSViUEUqHdoTMd6R0JVJw)\n",
      "Trashing file: SHEM_10_16_Gelane_Reduced_Trackfile 2.txt (ID: 1PRXIrP8msWowAMha9QD1FTQz0IC9EwS0)\n",
      "Trashing file: SHEM_10_6_Laurence_Reduced_Trackfile 2.txt (ID: 17ckcvso3VdlPFoJwP6wbHdCFJgry0kdL)\n",
      "Trashing file: SHEM_10_17_Sarah_WWLLN_Locations 2.txt (ID: 1z7J7EVtaJZW47f8jLGyGAsTIU7ELL5WB)\n",
      "Trashing file: SHEM_10_17_Sarah_Reduced_Trackfile 2.txt (ID: 1L2-nsWc5yDJM3LpWjwwyBQKToiwNCXBY)\n",
      "Trashing file: SHEM_10_1_Anja_WWLLN_Locations 2.txt (ID: 1Huhh9nusQcGX4Jt9Isehozr3yPvCmGXm)\n",
      "Trashing file: SHEM_10_1_Anja_Reduced_Trackfile 2.txt (ID: 176Kap2byk4dfaX6Z5uPdeOqPVBFhgqCy)\n",
      "Trashing file: SHEM_10_10_Ten_WWLLN_Locations 2.txt (ID: 1W1uPZ008h54ElIwTDSNqe4EqQ4Km2fDU)\n",
      "Trashing file: SHEM_10_10_Ten_Reduced_Trackfile 2.txt (ID: 1wEndJBYlV8Fr54PTT_M_oH5omRsDgWPN)\n",
      "Trashing file: SHEM_10_19_Tomas_WWLLN_Locations 2.txt (ID: 1UMRHJ4SXKyVTcAFMXwK1nKw86JJF-jKa)\n",
      "Trashing file: SHEM_10_19_Tomas_Reduced_Trackfile 2.txt (ID: 1sKhEJvsh81Xv167KrEltzuqd4Foi3am8)\n",
      "Trashing file: SHEM_10_8_Magda_Reduced_Trackfile 2.txt (ID: 1MYNukmb_OzfFTz8EXywkd1AgVBoikCVG)\n",
      "Trashing file: SHEM_10_8_Magda_WWLLN_Locations 2.txt (ID: 1f6OBmwl93ofhBXw7GR1nMfA--bgWBh1c)\n",
      "Trashing file: SHEM_10_21_Imani_WWLLN_Locations 2.txt (ID: 11I9TwVmrGrlhbrFUtoHRH6YJ0L78RO87)\n",
      "Trashing file: SHEM_10_21_Imani_Reduced_Trackfile 2.txt (ID: 1atkzMgUQnvUGClu_SJqLeNbABHWCTSYf)\n",
      "Trashing file: SHEM_10_24_Sean_WWLLN_Locations 2.txt (ID: 1UWQ2wRgVMJpOfMSWblu9oCfB1ehtQxIS)\n",
      "Trashing file: SHEM_10_24_Sean_Reduced_Trackfile 2.txt (ID: 1NgBeAVTN-xE1lTcaVJSPBeBDuMgD0nsc)\n",
      "Trashing file: SHEM_10_23_Robyn_WWLLN_Locations 2.txt (ID: 1aE0oU1-acUeFbkmKHt5k8sIUeg0IabTD)\n",
      "Trashing file: SHEM_10_23_Robyn_Reduced_Trackfile 2.txt (ID: 1QFQl4gbOXZLPxMT1mIB1poXgqk2TCONx)\n",
      "Trashing file: SHEM_10_15_Rene_Reduced_Trackfile 2.txt (ID: 10IKiyZbCwGVHLQnymuNWqMjTv3Fquao2)\n",
      "Trashing file: SHEM_10_15_Rene_WWLLN_Locations 2.txt (ID: 1Q7es4BivCV49cMQZQw4vVrxLdQziOIh-)\n",
      "Trashing file: SHEM_10_3_Cleo_Reduced_Trackfile 2.txt (ID: 1rbPyuBTZGSR8UkaQ_DdxNBltqw5nQe2z)\n",
      "Trashing file: SHEM_10_3_Cleo_WWLLN_Locations 2.txt (ID: 1fRmLjFy-3iQD1EY84RRVMMM3pjBw4o1J)\n",
      "Trashing file: SHEM_10_12_Oli_WWLLN_Locations 2.txt (ID: 1lgXm6KrPGqzXlTc_L59g3KVgp8GfOi8B)\n",
      "Trashing file: SHEM_10_12_Oli_Reduced_Trackfile 2.txt (ID: 1TQxqeGQjB6oH4r4Q5YmVJ8x3uo12SNmx)\n",
      "Trashing file: SHEM_10_2_Bongani_Reduced_Trackfile 2.txt (ID: 1wkgcOVP_ysdBTf6b6wck-cF-u5BdXG_9)\n",
      "Trashing file: SHEM_10_2_Bongani_WWLLN_Locations 2.txt (ID: 1u0w5SJLm3w6zFv84gh8oiGWDvjbpeINK)\n",
      "Trashing file: SHEM_10_13_Fami_Reduced_Trackfile 2.txt (ID: 12LbrVrksL-MsbgIiA9ydxT12C-ydg4xz)\n",
      "Trashing file: SHEM_10_13_Fami_WWLLN_Locations 2.txt (ID: 1jn2zU9upoM_xtxEa-7Vk8uz-lBoSR_MB)\n",
      "Trashing file: SHEM_10_5_David_Reduced_Trackfile 2.txt (ID: 1yv523s9Hmq-b2YjXtz_jDWc5Svq2Xc3l)\n",
      "Trashing file: SHEM_10_5_David_WWLLN_Locations 2.txt (ID: 1d4xhr8lreCidRIks7tfTZSR0wbEjmIu3)\n",
      "Trashing file: SHEM_10_14_Pat_WWLLN_Locations 2.txt (ID: 19EoefsdAoGiJYGVAiy_4K3BW265kEN3o)\n",
      "Trashing file: SHEM_10_14_Pat_Reduced_Trackfile 2.txt (ID: 1t3_jnCXnqcmRW1FI9MXznBvrRritIWAN)\n",
      "Trashing file: SHEM_10_22_Paul_Reduced_Trackfile 2.txt (ID: 1Ga4FVKtAFHw_mRaQoFgRYr3oBjDvr0LK)\n",
      "Trashing file: SHEM_10_22_Paul_WWLLN_Locations 2.txt (ID: 1jfrtlQCyBQJli3-iMomOn2P5UFWVn6SU)\n",
      "Trashing file: WPAC_10_18_Eighteen_Reduced_Trackfile 2.txt (ID: 1zCSTJoKpknkaw2OSRvLsrkN5cKgXDMHE)\n",
      "Trashing file: WPAC_10_18_Eighteen_WWLLN_Locations 2.txt (ID: 1MaHevJubzCMj16xeH-aFTg--44KHMWlB)\n",
      "Trashing file: WPAC_10_9_Namtheun_Reduced_Trackfile 2.txt (ID: 1weFttQziTq0tlU3RbknA1jwt47-QkioC)\n",
      "Trashing file: WPAC_10_9_Namtheun_WWLLN_Locations 2.txt (ID: 1OQZFOAC71QtRwkVUcqIZDSVLYogXBnKf)\n",
      "Trashing file: WPAC_10_11_Meranti_Reduced_Trackfile 2.txt (ID: 1kBLgDZk6wozkqa-82bHpulhd8hHU_r7T)\n",
      "Trashing file: WPAC_10_11_Meranti_WWLLN_Locations 2.txt (ID: 1vEsO8BBy3JdOOqNIg0zaaf-NsiAB7sK6)\n",
      "Trashing file: WPAC_10_7_Lionrock_Reduced_Trackfile 2.txt (ID: 1eUlwfSf2dv16-yw9HUEBM3iK9Im34kmx)\n",
      "Trashing file: WPAC_10_16_Chaba_WWLLN_Locations 2.txt (ID: 114NWbWKipcLOBFxPAmO9ObisPSfbU6Ty)\n",
      "Trashing file: WPAC_10_16_Chaba_Reduced_Trackfile 2.txt (ID: 1X7gfVYfYlZRXibuDxAdHunVMuR7ezpx-)\n",
      "Trashing file: WPAC_10_6_Mindulle_Reduced_Trackfile 2.txt (ID: 1cEk-zFoBtk5jO8Nt5NbCYWoXvc6GXDkf)\n",
      "Trashing file: WPAC_10_6_Mindulle_WWLLN_Locations 2.txt (ID: 1pe10cO82tSMQCz5TMVVsHE5UKUJZc8ic)\n",
      "Trashing file: WPAC_10_17_Seventeen_Reduced_Trackfile 2.txt (ID: 1BQL7bvMfV2qEl90WiT9Y-FSCjbAMQk8b)\n",
      "Trashing file: WPAC_10_17_Seventeen_WWLLN_Locations 2.txt (ID: 1zMShYivXE99YySOCDqMdrVzxljvZdXcX)\n",
      "Trashing file: WPAC_10_1_One_WWLLN_Locations 2.txt (ID: 1vucngMnqdygZ3FRI0frqw9hCsr3ZNW0f)\n",
      "Trashing file: WPAC_10_1_One_Reduced_Trackfile 2.txt (ID: 19ZSuiilL_OqEIEchIEujG4-xoJoJQf7P)\n",
      "Trashing file: WPAC_10_10_Malou_Reduced_Trackfile 2.txt (ID: 1koKqGpzn-hOCia_D-u4Oqh7PVg7Th2jR)\n",
      "Trashing file: WPAC_10_10_Malou_WWLLN_Locations 2.txt (ID: 12LuntShVIyxaNfsMYaDtGe0ADOGOE-EQ)\n",
      "Trashing file: WPAC_10_19_Nineteen_WWLLN_Locations 2.txt (ID: 1uPDTOQJ5wnCNhqjqjx2qCyfAxccYYJmt)\n",
      "Trashing file: WPAC_10_19_Nineteen_Reduced_Trackfile 2.txt (ID: 1fWcyEuvjDOKm0YMlqa7z4fPXGkIoYbvw)\n",
      "Trashing file: WPAC_10_8_Kompasu_WWLLN_Locations 2.txt (ID: 12SK7NKzFi3TZF50fyuXOCz99Gm831ktm)\n",
      "Trashing file: WPAC_10_8_Kompasu_Reduced_Trackfile 2.txt (ID: 14CE48psunfrC2t1PANSef1eqMrxeX-Jl)\n",
      "Trashing file: WPAC_10_4_Chanthu_Reduced_Trackfile 2.txt (ID: 1LqAlYfDs3rTOO-L_AnTUNjPXnOCsjbHc)\n",
      "Trashing file: WPAC_10_4_Chanthu_WWLLN_Locations 2.txt (ID: 14nrPti92kIPlS_rgvoJMSc5bagJhnS1r)\n",
      "Trashing file: WPAC_10_15_Megi_Reduced_Trackfile 2.txt (ID: 1mvBjlsv4Sr5VTbq8LXbrhCbbGP3CozTt)\n",
      "Trashing file: WPAC_10_15_Megi_WWLLN_Locations 2.txt (ID: 1SYeOlX3Pp44VqmPeMBSVFiYkA6oSznCm)\n",
      "Trashing file: WPAC_10_3_Conson_Reduced_Trackfile 2.txt (ID: 1xPV_JXyKhIupCADwqbuVJRHgV_hm4mGU)\n",
      "Trashing file: WPAC_10_12_Fanapi_Reduced_Trackfile 2.txt (ID: 1pHJCdokwQsMsBYNCpWSFem3nk_FXzKUZ)\n",
      "Trashing file: WPAC_10_3_Conson_WWLLN_Locations 2.txt (ID: 1VLXV-J-Z1YjZwbemzZKUk8sa70HNnR3W)\n",
      "Trashing file: WPAC_10_12_Fanapi_WWLLN_Locations 2.txt (ID: 1XWHDdyW4jwRocWag3oUGZWX_i1Xtbatw)\n",
      "Trashing file: WPAC_10_2_Omais_Reduced_Trackfile 2.txt (ID: 1ft2OELwo3lV_WPK_P_BhXVSMECnoiRyN)\n",
      "Trashing file: WPAC_10_2_Omais_WWLLN_Locations 2.txt (ID: 1u5ZyNHdKN5cNwleP2bw90Ld3ChbVB21e)\n",
      "Trashing file: WPAC_10_13_Malakas_Reduced_Trackfile 2.txt (ID: 1Oq--C-lGA20aGJ_d8zCtcdXUrHrRpe4Y)\n",
      "Trashing file: WPAC_10_13_Malakas_WWLLN_Locations 2.txt (ID: 1afcFFZrB7ToCQBCvOkxLhqKATHqdjin7)\n",
      "Trashing file: WPAC_10_5_Dianmu_Reduced_Trackfile 2.txt (ID: 1q05Tqm7WxWe5xAPs29VdjW3aXF66geU3)\n",
      "Trashing file: WPAC_10_5_Dianmu_WWLLN_Locations 2.txt (ID: 19KwPDe2CWFTBKPPBHIZPn35H5NV6Fyzr)\n",
      "Trashing file: WPAC_10_14_Fourteen_Reduced_Trackfile 2.txt (ID: 19lK6rd1a2WAIXWDpSmhTh54dVLITqEXJ)\n",
      "Trashing file: WPAC_10_14_Fourteen_WWLLN_Locations 2.txt (ID: 18AWA5pRateeZBZgkqP_zMFKRgUfcmehG)\n",
      "Trashing file: ATL_10_3_Bonnie_Reduced_Trackfile 2.txt (ID: 1kZj3V9AQM9HADDzGj37yWqK9FadpFmu_)\n"
     ]
    }
   ],
   "source": [
    "# Fill in the folder and pattern to match\n",
    "folder_id = \"14idmMBbM5xXZg4b61iINHbBTl2z4yLeD\"\n",
    "pattern = \"2.txt\"\n",
    "\n",
    "# Call the function\n",
    "find_and_trash_files(folder_id, pattern)"
   ]
  }
 ],
 "metadata": {
  "kernelspec": {
   "display_name": "base",
   "language": "python",
   "name": "python3"
  },
  "language_info": {
   "codemirror_mode": {
    "name": "ipython",
    "version": 3
   },
   "file_extension": ".py",
   "mimetype": "text/x-python",
   "name": "python",
   "nbconvert_exporter": "python",
   "pygments_lexer": "ipython3",
   "version": "3.11.5"
  }
 },
 "nbformat": 4,
 "nbformat_minor": 2
}
