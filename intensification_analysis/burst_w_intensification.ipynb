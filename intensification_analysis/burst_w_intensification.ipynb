{
 "cells": [
  {
   "cell_type": "code",
   "execution_count": 2,
   "metadata": {},
   "outputs": [],
   "source": [
    "import pandas as pd\n",
    "import numpy as np\n",
    "import polars as pl\n",
    "import matplotlib.pyplot as plt\n",
    "import scipy.stats as stats\n",
    "import seaborn as sns"
   ]
  },
  {
   "cell_type": "code",
   "execution_count": 3,
   "metadata": {},
   "outputs": [],
   "source": [
    "lightning_data = pd.read_csv('tc_lightning_vis_data.csv')\n",
    "threshold_data = pd.read_csv('tc_threshold.csv')\n",
    "threshold_sum = pd.read_csv('threshold_summary.csv')"
   ]
  },
  {
   "cell_type": "code",
   "execution_count": 6,
   "metadata": {},
   "outputs": [
    {
     "data": {
      "text/html": [
       "<div>\n",
       "<style scoped>\n",
       "    .dataframe tbody tr th:only-of-type {\n",
       "        vertical-align: middle;\n",
       "    }\n",
       "\n",
       "    .dataframe tbody tr th {\n",
       "        vertical-align: top;\n",
       "    }\n",
       "\n",
       "    .dataframe thead th {\n",
       "        text-align: right;\n",
       "    }\n",
       "</style>\n",
       "<table border=\"1\" class=\"dataframe\">\n",
       "  <thead>\n",
       "    <tr style=\"text-align: right;\">\n",
       "      <th></th>\n",
       "      <th>Unnamed: 0</th>\n",
       "      <th>time_bin</th>\n",
       "      <th>storm_code</th>\n",
       "      <th>lightning_count</th>\n",
       "      <th>year</th>\n",
       "      <th>month</th>\n",
       "      <th>day</th>\n",
       "      <th>hour</th>\n",
       "      <th>minute</th>\n",
       "      <th>lat</th>\n",
       "      <th>...</th>\n",
       "      <th>iqr1_threshold</th>\n",
       "      <th>iqr2_threshold</th>\n",
       "      <th>burst_mad1</th>\n",
       "      <th>burst_mad2</th>\n",
       "      <th>mad1_threshold</th>\n",
       "      <th>mad2_threshold</th>\n",
       "      <th>burst_logn1</th>\n",
       "      <th>burst_logn2</th>\n",
       "      <th>logn1_threshold</th>\n",
       "      <th>logn2_threshold</th>\n",
       "    </tr>\n",
       "  </thead>\n",
       "  <tbody>\n",
       "    <tr>\n",
       "      <th>0</th>\n",
       "      <td>0</td>\n",
       "      <td>2010-06-26 09:00:00</td>\n",
       "      <td>ATL_10_1</td>\n",
       "      <td>2</td>\n",
       "      <td>2010</td>\n",
       "      <td>6</td>\n",
       "      <td>26</td>\n",
       "      <td>9</td>\n",
       "      <td>0</td>\n",
       "      <td>17.0</td>\n",
       "      <td>...</td>\n",
       "      <td>3.265439</td>\n",
       "      <td>3.908512</td>\n",
       "      <td>False</td>\n",
       "      <td>False</td>\n",
       "      <td>2.720473</td>\n",
       "      <td>3.125938</td>\n",
       "      <td>False</td>\n",
       "      <td>False</td>\n",
       "      <td>3.469047</td>\n",
       "      <td>4.444476</td>\n",
       "    </tr>\n",
       "    <tr>\n",
       "      <th>1</th>\n",
       "      <td>1</td>\n",
       "      <td>2010-06-26 09:30:00</td>\n",
       "      <td>ATL_10_1</td>\n",
       "      <td>13</td>\n",
       "      <td>2010</td>\n",
       "      <td>6</td>\n",
       "      <td>26</td>\n",
       "      <td>9</td>\n",
       "      <td>30</td>\n",
       "      <td>17.0</td>\n",
       "      <td>...</td>\n",
       "      <td>3.265439</td>\n",
       "      <td>3.908512</td>\n",
       "      <td>False</td>\n",
       "      <td>False</td>\n",
       "      <td>2.720473</td>\n",
       "      <td>3.125938</td>\n",
       "      <td>False</td>\n",
       "      <td>False</td>\n",
       "      <td>3.469047</td>\n",
       "      <td>4.444476</td>\n",
       "    </tr>\n",
       "    <tr>\n",
       "      <th>2</th>\n",
       "      <td>2</td>\n",
       "      <td>2010-06-26 13:00:00</td>\n",
       "      <td>ATL_10_1</td>\n",
       "      <td>2</td>\n",
       "      <td>2010</td>\n",
       "      <td>6</td>\n",
       "      <td>26</td>\n",
       "      <td>13</td>\n",
       "      <td>0</td>\n",
       "      <td>17.0</td>\n",
       "      <td>...</td>\n",
       "      <td>3.265439</td>\n",
       "      <td>3.908512</td>\n",
       "      <td>False</td>\n",
       "      <td>False</td>\n",
       "      <td>2.720473</td>\n",
       "      <td>3.125938</td>\n",
       "      <td>False</td>\n",
       "      <td>False</td>\n",
       "      <td>3.469047</td>\n",
       "      <td>4.444476</td>\n",
       "    </tr>\n",
       "    <tr>\n",
       "      <th>3</th>\n",
       "      <td>3</td>\n",
       "      <td>2010-06-26 13:30:00</td>\n",
       "      <td>ATL_10_1</td>\n",
       "      <td>1</td>\n",
       "      <td>2010</td>\n",
       "      <td>6</td>\n",
       "      <td>26</td>\n",
       "      <td>13</td>\n",
       "      <td>30</td>\n",
       "      <td>17.0</td>\n",
       "      <td>...</td>\n",
       "      <td>3.265439</td>\n",
       "      <td>3.908512</td>\n",
       "      <td>False</td>\n",
       "      <td>False</td>\n",
       "      <td>2.720473</td>\n",
       "      <td>3.125938</td>\n",
       "      <td>False</td>\n",
       "      <td>False</td>\n",
       "      <td>3.469047</td>\n",
       "      <td>4.444476</td>\n",
       "    </tr>\n",
       "    <tr>\n",
       "      <th>4</th>\n",
       "      <td>4</td>\n",
       "      <td>2010-06-26 14:30:00</td>\n",
       "      <td>ATL_10_1</td>\n",
       "      <td>1</td>\n",
       "      <td>2010</td>\n",
       "      <td>6</td>\n",
       "      <td>26</td>\n",
       "      <td>14</td>\n",
       "      <td>30</td>\n",
       "      <td>17.0</td>\n",
       "      <td>...</td>\n",
       "      <td>3.265439</td>\n",
       "      <td>3.908512</td>\n",
       "      <td>False</td>\n",
       "      <td>False</td>\n",
       "      <td>2.720473</td>\n",
       "      <td>3.125938</td>\n",
       "      <td>False</td>\n",
       "      <td>False</td>\n",
       "      <td>3.469047</td>\n",
       "      <td>4.444476</td>\n",
       "    </tr>\n",
       "  </tbody>\n",
       "</table>\n",
       "<p>5 rows × 35 columns</p>\n",
       "</div>"
      ],
      "text/plain": [
       "   Unnamed: 0             time_bin storm_code  lightning_count  year  month  \\\n",
       "0           0  2010-06-26 09:00:00   ATL_10_1                2  2010      6   \n",
       "1           1  2010-06-26 09:30:00   ATL_10_1               13  2010      6   \n",
       "2           2  2010-06-26 13:00:00   ATL_10_1                2  2010      6   \n",
       "3           3  2010-06-26 13:30:00   ATL_10_1                1  2010      6   \n",
       "4           4  2010-06-26 14:30:00   ATL_10_1                1  2010      6   \n",
       "\n",
       "   day  hour  minute   lat  ...  iqr1_threshold  iqr2_threshold  burst_mad1  \\\n",
       "0   26     9       0  17.0  ...        3.265439        3.908512       False   \n",
       "1   26     9      30  17.0  ...        3.265439        3.908512       False   \n",
       "2   26    13       0  17.0  ...        3.265439        3.908512       False   \n",
       "3   26    13      30  17.0  ...        3.265439        3.908512       False   \n",
       "4   26    14      30  17.0  ...        3.265439        3.908512       False   \n",
       "\n",
       "  burst_mad2  mad1_threshold mad2_threshold  burst_logn1  burst_logn2  \\\n",
       "0      False        2.720473       3.125938        False        False   \n",
       "1      False        2.720473       3.125938        False        False   \n",
       "2      False        2.720473       3.125938        False        False   \n",
       "3      False        2.720473       3.125938        False        False   \n",
       "4      False        2.720473       3.125938        False        False   \n",
       "\n",
       "   logn1_threshold  logn2_threshold  \n",
       "0         3.469047         4.444476  \n",
       "1         3.469047         4.444476  \n",
       "2         3.469047         4.444476  \n",
       "3         3.469047         4.444476  \n",
       "4         3.469047         4.444476  \n",
       "\n",
       "[5 rows x 35 columns]"
      ]
     },
     "execution_count": 6,
     "metadata": {},
     "output_type": "execute_result"
    }
   ],
   "source": [
    "threshold_data.head()"
   ]
  },
  {
   "cell_type": "code",
   "execution_count": 29,
   "metadata": {},
   "outputs": [
    {
     "name": "stdout",
     "output_type": "stream",
     "text": [
      "  Intensification_Category_3  burst_iqr1  burst_iqr2  burst_logn1\n",
      "0               Intensifying         350         103          415\n",
      "1                    Neutral         171          47          256\n",
      "2               Unidentified         149          50          159\n",
      "3                  Weakening         175          50          222\n"
     ]
    }
   ],
   "source": [
    "burst_counts = threshold_data.groupby('Intensification_Category_3')[['burst_iqr1','burst_iqr2','burst_logn1']].sum()\n",
    "\n",
    "burst_counts = burst_counts.reset_index()\n",
    "print(burst_counts)"
   ]
  },
  {
   "cell_type": "code",
   "execution_count": 38,
   "metadata": {},
   "outputs": [
    {
     "name": "stdout",
     "output_type": "stream",
     "text": [
      "burst_iqr1: χ² = 123.36, p = 0.0000\n",
      "burst_iqr2: χ² = 35.09, p = 0.0000\n",
      "burst_logn1: χ² = 135.55, p = 0.0000\n"
     ]
    }
   ],
   "source": [
    "# See if bursts statistically significant differences for each intensification\n",
    "import scipy.stats as stats\n",
    "\n",
    "methods = ['burst_iqr1', 'burst_iqr2', 'burst_logn1']\n",
    "\n",
    "\n",
    "results = {}\n",
    "for method in methods:\n",
    "    observed = burst_counts[method].tolist()  # Get counts for the method across all stages\n",
    "    chi2, p = stats.chisquare(observed)\n",
    "    results[method] = {'Chi²': chi2, 'p-value': p}\n",
    "\n",
    "for method in results:\n",
    "    print(f\"{method}: χ² = {results[method]['Chi²']:.2f}, p = {results[method]['p-value']:.4f}\")\n"
   ]
  },
  {
   "cell_type": "code",
   "execution_count": 13,
   "metadata": {},
   "outputs": [
    {
     "data": {
      "image/png": "[encoded data removed]",
      "text/plain": [
       "<Figure size 720x360 with 1 Axes>"
      ]
     },
     "metadata": {
      "needs_background": "light"
     },
     "output_type": "display_data"
    }
   ],
   "source": [
    "burst_counts.set_index(\"Intensification_Category_3\").plot(kind=\"bar\", figsize=(10, 5), colormap=\"viridis\")\n",
    "plt.ylabel(\"Burst Count\")\n",
    "plt.title(\"Lightning Burst Counts by Intensification Stage\")\n",
    "plt.legend(title=\"Detection Method\")\n",
    "plt.xticks(rotation=45)\n",
    "plt.show()\n"
   ]
  },
  {
   "cell_type": "code",
   "execution_count": 34,
   "metadata": {},
   "outputs": [
    {
     "data": {
      "image/png": "[encoded data removed]",
      "text/plain": [
       "<Figure size 720x432 with 2 Axes>"
      ]
     },
     "metadata": {
      "needs_background": "light"
     },
     "output_type": "display_data"
    }
   ],
   "source": [
    "# Normalize data to show proportions within each method\n",
    "df_normalized = burst_counts.set_index('Intensification_Category_3').apply(lambda x: x/x.sum(), axis=0)\n",
    "\n",
    "# Plotting\n",
    "plt.figure(figsize=(10, 6))\n",
    "sns.heatmap(df_normalized, \n",
    "            annot=True, \n",
    "            fmt=\".2f\", \n",
    "            cmap='Blues', \n",
    "            linewidths=0.5,\n",
    "            cbar_kws={'label': 'Proportion of Total Bursts'})\n",
    "plt.title('Proportional Distribution of Bursts by Stage and Method')\n",
    "plt.xlabel('Detection Method')\n",
    "plt.ylabel('Intensification Stage')\n",
    "plt.xticks(rotation=45)\n",
    "plt.tight_layout()\n",
    "plt.show()"
   ]
  }
 ],
 "metadata": {
  "kernelspec": {
   "display_name": "base",
   "language": "python",
   "name": "python3"
  },
  "language_info": {
   "codemirror_mode": {
    "name": "ipython",
    "version": 3
   },
   "file_extension": ".py",
   "mimetype": "text/x-python",
   "name": "python",
   "nbconvert_exporter": "python",
   "pygments_lexer": "ipython3",
   "version": "3.9.12"
  }
 },
 "nbformat": 4,
 "nbformat_minor": 2
}
