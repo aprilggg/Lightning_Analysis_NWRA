{
 "cells": [
  {
   "cell_type": "markdown",
   "metadata": {},
   "source": [
    "# Visualization PNG Upload\n",
    "\n",
    "This notebook uploads the visualizations in the `visualizations/` folder created in `lightning_threshold_innercore.ipynb` and `lightning_threshold_rainband.ipynb` to Google Drive. This notebook should be run after the creation of the visualizations in the previously mentioned notebooks. We use the [Google Drive API](https://developers.google.com/drive/api/guides/about-sdk) to facilitate interactions with Google Drive and use multithreading to speed up the uploading process.\n",
    "\n",
    "### Code Requirements\n",
    "This notebook requires following libraries not built in to Python:\n",
    "- pydrive\n",
    "\n",
    "### Setting Up Google Drive API\n",
    "This code requires setting up a Google Cloud project and creating OAuth 2.0 Client ID.\n",
    " \n",
    "1. Start by creating a Google Cloud project. We use the free tier. [Official Documentation](https://console.cloud.google.com/projectcreate?sjid=1200308559223672915-NC&inv=1&invt=AbjYiw)\n",
    "2. Enable the Google Drive API. Navigate to the APIs & Services page, click the \"Enable APIs and Services\" button, and search for \"Google Drive API\". Click \"Enable\" if not already enabled.\n",
    "3. Configure the OAuth consent screen as needed by navigating to APIs & Services > OAuth consent screen. For the sake of this project, we leave the app in testing mode and manually add test users for access. Users can be added in the \"Test users\" section. [Official Documentation](https://support.google.com/cloud/answer/10311615?hl=en&ref_topic=3473162&sjid=1200308559223672915-NC)\n",
    "4. Create credentials. Navigate to APIs & Services > Credentials. Click \"Create Credentials\" and select \"OAuth 2.0 Client ID\". Select \"Desktop app\" as the application type and download the json file. Rename the file to `client_secret.json` and move this to the same directory as this script. [Official Documentation](https://support.google.com/cloud/answer/6158849?hl=en)\n",
    "\n",
    "### Code\n",
    "\n",
    "Start by importing the necessary libraries."
   ]
  },
  {
   "cell_type": "code",
   "execution_count": 1,
   "metadata": {},
   "outputs": [],
   "source": [
    "# Import packages\n",
    "from pydrive.auth import GoogleAuth\n",
    "from pydrive.drive import GoogleDrive\n",
    "import os\n",
    "from threading import Thread\n",
    "from queue import Queue"
   ]
  },
  {
   "cell_type": "markdown",
   "metadata": {},
   "source": [
    "Next, authenticate with Google Drive. This will open your browser and prompt you to log in and connect to the app. Make sure the login used is included in the list of test users."
   ]
  },
  {
   "cell_type": "code",
   "execution_count": 2,
   "metadata": {},
   "outputs": [
    {
     "name": "stdout",
     "output_type": "stream",
     "text": [
      "Your browser has been opened to visit:\n",
      "\n",
      "    https://accounts.google.com/o/oauth2/auth?client_id=389849867563-4uggnm57nqe52156v32gj1lkosoqpoem.apps.googleusercontent.com&redirect_uri=http%3A%2F%2Flocalhost%3A8080%2F&scope=https%3A%2F%2Fwww.googleapis.com%2Fauth%2Fdrive&access_type=offline&response_type=code\n",
      "\n",
      "Authentication successful.\n"
     ]
    }
   ],
   "source": [
    "# Authenticate Google Drive\n",
    "gauth = GoogleAuth()\n",
    "gauth.LocalWebserverAuth()  # Authenticate via browser\n",
    "drive = GoogleDrive(gauth)"
   ]
  },
  {
   "cell_type": "markdown",
   "metadata": {},
   "source": [
    "We set our parameters next, namely the destination folder ID. Make sure to have the destination folder created in Google Drive before performing this step.\n",
    "\n",
    "The destination folder ID can be found as the string after the \"folders/\" part of the URL for the Google Drive folder."
   ]
  },
  {
   "cell_type": "code",
   "execution_count": 3,
   "metadata": {},
   "outputs": [],
   "source": [
    "# Folder ID of the destination folder in Google Drive\n",
    "destination_folder_id = '1iIZx4ThnT8KyQc6pDPAemjYb0Ma_OFd_'  # Replace with folder ID\n",
    "# Define parameters\n",
    "file_extension = \".png\""
   ]
  },
  {
   "cell_type": "markdown",
   "metadata": {},
   "source": [
    "Create a function to handle uploading the files to Google Drive."
   ]
  },
  {
   "cell_type": "code",
   "execution_count": 4,
   "metadata": {},
   "outputs": [],
   "source": [
    "# Function to upload files\n",
    "def upload_file(printout=False):\n",
    "    while not file_queue.empty():\n",
    "        file_path = file_queue.get()\n",
    "        try:\n",
    "            file_name = os.path.basename(file_path)\n",
    "            if printout:\n",
    "                print(f\"Uploading: {file_name}\")\n",
    "            gfile = drive.CreateFile({'title': file_name, 'parents': [{'id': destination_folder_id}]})\n",
    "            gfile.SetContentFile(file_path)\n",
    "            gfile.Upload()\n",
    "            if printout:\n",
    "                print(f\"Uploaded: {file_name}\")\n",
    "        except Exception as e:\n",
    "            print(f\"Failed to upload {file_path}: {e}\")\n",
    "        file_queue.task_done()"
   ]
  },
  {
   "cell_type": "markdown",
   "metadata": {},
   "source": [
    "Let's upload our files!\n",
    "\n",
    "This code will look for `.png` files in the `visualizations/` directory to upload. We then upload these files concurrently over multiple threads that call the upload file function."
   ]
  },
  {
   "cell_type": "code",
   "execution_count": 5,
   "metadata": {},
   "outputs": [
    {
     "name": "stdout",
     "output_type": "stream",
     "text": [
      "Total files to upload: 2172\n",
      "Failed to upload visualizations/EPAC_17_16_Max_innercore_i3.png: EOF occurred in violation of protocol (_ssl.c:2427)\n",
      "Uploaded files\n"
     ]
    }
   ],
   "source": [
    "# Define the file upload queue\n",
    "file_queue = Queue()\n",
    "\n",
    "# Populate the queue with files to upload\n",
    "base_directory = \"visualizations/\"\n",
    "if not os.path.exists(base_directory):\n",
    "    print(f\"The path {base_directory} does not exist.\")\n",
    "    pass\n",
    "else:\n",
    "    for root, _, files in os.walk(base_directory):\n",
    "        for file in files:\n",
    "            if file.endswith(file_extension):\n",
    "                file_path = os.path.join(root, file)\n",
    "                file_queue.put(file_path)  # Add the file path to the queue\n",
    "\n",
    "    # Check if files were added to the queue\n",
    "    if file_queue.empty():\n",
    "        print(\"No files were added to the queue.\")\n",
    "    else:\n",
    "        total_queue = file_queue.qsize()\n",
    "        print(f\"Total files to upload: {total_queue}\")\n",
    "\n",
    "        # Create threads for uploading\n",
    "        threads = []\n",
    "        num_threads = 4\n",
    "\n",
    "        for _ in range(num_threads):\n",
    "            thread = Thread(target=upload_file)\n",
    "            threads.append(thread)\n",
    "            thread.start()\n",
    "\n",
    "        # Wait for all threads to complete\n",
    "        for thread in threads:\n",
    "            thread.join()\n",
    "\n",
    "        print(f\"Uploaded files\")"
   ]
  }
 ],
 "metadata": {
  "kernelspec": {
   "display_name": "base",
   "language": "python",
   "name": "python3"
  },
  "language_info": {
   "codemirror_mode": {
    "name": "ipython",
    "version": 3
   },
   "file_extension": ".py",
   "mimetype": "text/x-python",
   "name": "python",
   "nbconvert_exporter": "python",
   "pygments_lexer": "ipython3",
   "version": "3.11.5"
  }
 },
 "nbformat": 4,
 "nbformat_minor": 2
}
